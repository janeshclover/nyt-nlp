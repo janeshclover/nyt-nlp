{
 "cells": [
  {
   "cell_type": "code",
   "execution_count": 9,
   "id": "947411e6",
   "metadata": {},
   "outputs": [],
   "source": [
    "import numpy as np\n",
    "import pandas as pd\n",
    "import matplotlib.pyplot as plt\n",
    "import seaborn as sns\n",
    "from scipy import stats"
   ]
  },
  {
   "cell_type": "code",
   "execution_count": 10,
   "id": "3c707cf9",
   "metadata": {},
   "outputs": [],
   "source": [
    "df_world = pd.read_csv('Headlines - World.csv')"
   ]
  },
  {
   "cell_type": "code",
   "execution_count": 11,
   "id": "f58a4c25",
   "metadata": {},
   "outputs": [
    {
     "data": {
      "text/html": [
       "<div>\n",
       "<style scoped>\n",
       "    .dataframe tbody tr th:only-of-type {\n",
       "        vertical-align: middle;\n",
       "    }\n",
       "\n",
       "    .dataframe tbody tr th {\n",
       "        vertical-align: top;\n",
       "    }\n",
       "\n",
       "    .dataframe thead th {\n",
       "        text-align: right;\n",
       "    }\n",
       "</style>\n",
       "<table border=\"1\" class=\"dataframe\">\n",
       "  <thead>\n",
       "    <tr style=\"text-align: right;\">\n",
       "      <th></th>\n",
       "      <th>headline</th>\n",
       "      <th>section_name</th>\n",
       "      <th>year</th>\n",
       "      <th>month</th>\n",
       "      <th>year_group</th>\n",
       "      <th>decade</th>\n",
       "      <th>compound</th>\n",
       "      <th>neg</th>\n",
       "      <th>neu</th>\n",
       "      <th>pos</th>\n",
       "      <th>score</th>\n",
       "    </tr>\n",
       "  </thead>\n",
       "  <tbody>\n",
       "    <tr>\n",
       "      <th>0</th>\n",
       "      <td>The U.S. reaches 20 million cases.</td>\n",
       "      <td>World</td>\n",
       "      <td>2021.0</td>\n",
       "      <td>1.0</td>\n",
       "      <td>9</td>\n",
       "      <td>5</td>\n",
       "      <td>0.0516</td>\n",
       "      <td>0.000</td>\n",
       "      <td>0.806</td>\n",
       "      <td>0.194</td>\n",
       "      <td>positive</td>\n",
       "    </tr>\n",
       "    <tr>\n",
       "      <th>1</th>\n",
       "      <td>Florida health officials detect the state’s fi...</td>\n",
       "      <td>World</td>\n",
       "      <td>2021.0</td>\n",
       "      <td>1.0</td>\n",
       "      <td>9</td>\n",
       "      <td>5</td>\n",
       "      <td>0.0000</td>\n",
       "      <td>0.000</td>\n",
       "      <td>1.000</td>\n",
       "      <td>0.000</td>\n",
       "      <td>neutral</td>\n",
       "    </tr>\n",
       "    <tr>\n",
       "      <th>2</th>\n",
       "      <td>An Embattled Public Servant in a Fractured France</td>\n",
       "      <td>World</td>\n",
       "      <td>2021.0</td>\n",
       "      <td>1.0</td>\n",
       "      <td>9</td>\n",
       "      <td>5</td>\n",
       "      <td>0.0000</td>\n",
       "      <td>0.000</td>\n",
       "      <td>1.000</td>\n",
       "      <td>0.000</td>\n",
       "      <td>neutral</td>\n",
       "    </tr>\n",
       "    <tr>\n",
       "      <th>3</th>\n",
       "      <td>What to Know as Troubled Afghan Peace Talks En...</td>\n",
       "      <td>World</td>\n",
       "      <td>2021.0</td>\n",
       "      <td>1.0</td>\n",
       "      <td>9</td>\n",
       "      <td>5</td>\n",
       "      <td>0.1280</td>\n",
       "      <td>0.182</td>\n",
       "      <td>0.606</td>\n",
       "      <td>0.212</td>\n",
       "      <td>positive</td>\n",
       "    </tr>\n",
       "    <tr>\n",
       "      <th>4</th>\n",
       "      <td>France couldn’t stop the New Year’s parties. O...</td>\n",
       "      <td>World</td>\n",
       "      <td>2021.0</td>\n",
       "      <td>1.0</td>\n",
       "      <td>9</td>\n",
       "      <td>5</td>\n",
       "      <td>-0.2023</td>\n",
       "      <td>0.212</td>\n",
       "      <td>0.660</td>\n",
       "      <td>0.127</td>\n",
       "      <td>negative</td>\n",
       "    </tr>\n",
       "    <tr>\n",
       "      <th>...</th>\n",
       "      <td>...</td>\n",
       "      <td>...</td>\n",
       "      <td>...</td>\n",
       "      <td>...</td>\n",
       "      <td>...</td>\n",
       "      <td>...</td>\n",
       "      <td>...</td>\n",
       "      <td>...</td>\n",
       "      <td>...</td>\n",
       "      <td>...</td>\n",
       "      <td>...</td>\n",
       "    </tr>\n",
       "    <tr>\n",
       "      <th>297490</th>\n",
       "      <td>POLAND REPORTS A SHORTAGE IN FOOD SET ASIDE FO...</td>\n",
       "      <td>World</td>\n",
       "      <td>1981.0</td>\n",
       "      <td>12.0</td>\n",
       "      <td>1</td>\n",
       "      <td>1</td>\n",
       "      <td>-0.2500</td>\n",
       "      <td>0.182</td>\n",
       "      <td>0.818</td>\n",
       "      <td>0.000</td>\n",
       "      <td>negative</td>\n",
       "    </tr>\n",
       "    <tr>\n",
       "      <th>297491</th>\n",
       "      <td>IRAQ REPORTS ISRAELI AIRCRAFT INTRUDED INTO IT...</td>\n",
       "      <td>World</td>\n",
       "      <td>1981.0</td>\n",
       "      <td>12.0</td>\n",
       "      <td>1</td>\n",
       "      <td>1</td>\n",
       "      <td>0.0000</td>\n",
       "      <td>0.000</td>\n",
       "      <td>1.000</td>\n",
       "      <td>0.000</td>\n",
       "      <td>neutral</td>\n",
       "    </tr>\n",
       "    <tr>\n",
       "      <th>297492</th>\n",
       "      <td>25,000 POLES IN THE U.S. ARE TRYING TO GET HOME</td>\n",
       "      <td>World</td>\n",
       "      <td>1981.0</td>\n",
       "      <td>12.0</td>\n",
       "      <td>1</td>\n",
       "      <td>1</td>\n",
       "      <td>0.0000</td>\n",
       "      <td>0.000</td>\n",
       "      <td>1.000</td>\n",
       "      <td>0.000</td>\n",
       "      <td>neutral</td>\n",
       "    </tr>\n",
       "    <tr>\n",
       "      <th>297493</th>\n",
       "      <td>Around the World; Chile Seals Off 2 Areas In S...</td>\n",
       "      <td>World</td>\n",
       "      <td>1981.0</td>\n",
       "      <td>12.0</td>\n",
       "      <td>1</td>\n",
       "      <td>1</td>\n",
       "      <td>-0.5719</td>\n",
       "      <td>0.252</td>\n",
       "      <td>0.748</td>\n",
       "      <td>0.000</td>\n",
       "      <td>negative</td>\n",
       "    </tr>\n",
       "    <tr>\n",
       "      <th>297494</th>\n",
       "      <td>THE AFGHAN WARRIORS: MANY OUTLOOKS, ONE CAUSE</td>\n",
       "      <td>World</td>\n",
       "      <td>1981.0</td>\n",
       "      <td>12.0</td>\n",
       "      <td>1</td>\n",
       "      <td>1</td>\n",
       "      <td>0.0000</td>\n",
       "      <td>0.000</td>\n",
       "      <td>1.000</td>\n",
       "      <td>0.000</td>\n",
       "      <td>neutral</td>\n",
       "    </tr>\n",
       "  </tbody>\n",
       "</table>\n",
       "<p>297495 rows × 11 columns</p>\n",
       "</div>"
      ],
      "text/plain": [
       "                                                 headline section_name  \\\n",
       "0                      The U.S. reaches 20 million cases.        World   \n",
       "1       Florida health officials detect the state’s fi...        World   \n",
       "2       An Embattled Public Servant in a Fractured France        World   \n",
       "3       What to Know as Troubled Afghan Peace Talks En...        World   \n",
       "4       France couldn’t stop the New Year’s parties. O...        World   \n",
       "...                                                   ...          ...   \n",
       "297490  POLAND REPORTS A SHORTAGE IN FOOD SET ASIDE FO...        World   \n",
       "297491  IRAQ REPORTS ISRAELI AIRCRAFT INTRUDED INTO IT...        World   \n",
       "297492    25,000 POLES IN THE U.S. ARE TRYING TO GET HOME        World   \n",
       "297493  Around the World; Chile Seals Off 2 Areas In S...        World   \n",
       "297494      THE AFGHAN WARRIORS: MANY OUTLOOKS, ONE CAUSE        World   \n",
       "\n",
       "          year  month  year_group  decade  compound    neg    neu    pos  \\\n",
       "0       2021.0    1.0           9       5    0.0516  0.000  0.806  0.194   \n",
       "1       2021.0    1.0           9       5    0.0000  0.000  1.000  0.000   \n",
       "2       2021.0    1.0           9       5    0.0000  0.000  1.000  0.000   \n",
       "3       2021.0    1.0           9       5    0.1280  0.182  0.606  0.212   \n",
       "4       2021.0    1.0           9       5   -0.2023  0.212  0.660  0.127   \n",
       "...        ...    ...         ...     ...       ...    ...    ...    ...   \n",
       "297490  1981.0   12.0           1       1   -0.2500  0.182  0.818  0.000   \n",
       "297491  1981.0   12.0           1       1    0.0000  0.000  1.000  0.000   \n",
       "297492  1981.0   12.0           1       1    0.0000  0.000  1.000  0.000   \n",
       "297493  1981.0   12.0           1       1   -0.5719  0.252  0.748  0.000   \n",
       "297494  1981.0   12.0           1       1    0.0000  0.000  1.000  0.000   \n",
       "\n",
       "           score  \n",
       "0       positive  \n",
       "1        neutral  \n",
       "2        neutral  \n",
       "3       positive  \n",
       "4       negative  \n",
       "...          ...  \n",
       "297490  negative  \n",
       "297491   neutral  \n",
       "297492   neutral  \n",
       "297493  negative  \n",
       "297494   neutral  \n",
       "\n",
       "[297495 rows x 11 columns]"
      ]
     },
     "execution_count": 11,
     "metadata": {},
     "output_type": "execute_result"
    }
   ],
   "source": [
    "df_world"
   ]
  },
  {
   "cell_type": "code",
   "execution_count": 12,
   "id": "07664a24",
   "metadata": {},
   "outputs": [],
   "source": [
    "df_world.rename(columns = {'compound':'compound_score'}, inplace = True)\n",
    "df_world.rename(columns = {'neg':'negative_score'}, inplace = True)\n",
    "df_world.rename(columns = {'neu':'neutral_score'}, inplace = True)\n",
    "df_world.rename(columns = {'pos':'positive_score'}, inplace = True)\n",
    "df_world.rename(columns = {'decade':'decade_group'}, inplace = True)\n",
    "df_world.rename(columns = {'year':'year_no'}, inplace = True)\n",
    "\n",
    "df_world = df_world.drop(columns=['score', 'section_name','month'])"
   ]
  },
  {
   "cell_type": "code",
   "execution_count": 13,
   "id": "4406a5e4",
   "metadata": {},
   "outputs": [
    {
     "name": "stdout",
     "output_type": "stream",
     "text": [
      "<class 'pandas.core.frame.DataFrame'>\n",
      "RangeIndex: 297495 entries, 0 to 297494\n",
      "Data columns (total 8 columns):\n",
      " #   Column          Non-Null Count   Dtype  \n",
      "---  ------          --------------   -----  \n",
      " 0   headline        297495 non-null  object \n",
      " 1   year_no         297495 non-null  float64\n",
      " 2   year_group      297495 non-null  int64  \n",
      " 3   decade_group    297495 non-null  int64  \n",
      " 4   compound_score  297495 non-null  float64\n",
      " 5   negative_score  297495 non-null  float64\n",
      " 6   neutral_score   297495 non-null  float64\n",
      " 7   positive_score  297495 non-null  float64\n",
      "dtypes: float64(5), int64(2), object(1)\n",
      "memory usage: 18.2+ MB\n"
     ]
    }
   ],
   "source": [
    "df_world.info()"
   ]
  },
  {
   "cell_type": "code",
   "execution_count": 14,
   "id": "0960018a",
   "metadata": {},
   "outputs": [],
   "source": [
    "df_world_1=df_world[df_world['year_group']==1].drop(columns=['year_no','year_group','decade_group']).reset_index(drop=True)\n",
    "df_world_2=df_world[df_world['year_group']==2].drop(columns=['year_no','year_group','decade_group']).reset_index(drop=True)\n",
    "df_world_3=df_world[df_world['year_group']==3].drop(columns=['year_no','year_group','decade_group']).reset_index(drop=True)\n",
    "df_world_4=df_world[df_world['year_group']==4].drop(columns=['year_no','year_group','decade_group']).reset_index(drop=True)\n",
    "df_world_5=df_world[df_world['year_group']==5].drop(columns=['year_no','year_group','decade_group']).reset_index(drop=True)\n",
    "df_world_6=df_world[df_world['year_group']==6].drop(columns=['year_no','year_group','decade_group']).reset_index(drop=True)\n",
    "df_world_7=df_world[df_world['year_group']==7].drop(columns=['year_no','year_group','decade_group']).reset_index(drop=True)\n",
    "df_world_8=df_world[df_world['year_group']==8].drop(columns=['year_no','year_group','decade_group']).reset_index(drop=True)\n",
    "df_world_9=df_world[df_world['year_group']==9].drop(columns=['year_no','year_group','decade_group']).reset_index(drop=True)"
   ]
  },
  {
   "cell_type": "code",
   "execution_count": 15,
   "id": "ae869dbf",
   "metadata": {},
   "outputs": [],
   "source": [
    "from sklearn.feature_extraction.text import CountVectorizer"
   ]
  },
  {
   "cell_type": "code",
   "execution_count": 16,
   "id": "84898414",
   "metadata": {},
   "outputs": [
    {
     "data": {
      "text/plain": [
       "(297495, 2500)"
      ]
     },
     "execution_count": 16,
     "metadata": {},
     "output_type": "execute_result"
    }
   ],
   "source": [
    "#instantiate\n",
    "bagofwords = CountVectorizer(stop_words=\"english\", max_features=2500)\n",
    "\n",
    "#fit\n",
    "bagofwords.fit(df_world['headline'])\n",
    "\n",
    "#transform\n",
    "df_world_transformed = bagofwords.transform(df_world['headline'])\n",
    "\n",
    "df_world_transformed.shape"
   ]
  },
  {
   "cell_type": "code",
   "execution_count": 30,
   "id": "429cd292",
   "metadata": {},
   "outputs": [],
   "source": [
    "#turn sparse matrix into array and then df\n",
    "df_world_vectors = pd.DataFrame(columns = bagofwords.get_feature_names_out(), data = df_world_transformed.toarray())\n",
    "\n",
    "#final vectorized dfs:\n",
    "df_world_vectorized = pd.concat([df_world, df_world_vectors], axis=1)"
   ]
  },
  {
   "cell_type": "code",
   "execution_count": null,
   "id": "057c891e",
   "metadata": {},
   "outputs": [],
   "source": [
    "#df_world_vectorized.to_csv('World_Vectorized.csv', index=False)"
   ]
  },
  {
   "cell_type": "code",
   "execution_count": 20,
   "id": "3696968b",
   "metadata": {},
   "outputs": [],
   "source": [
    "#df_world_vectorized = df_world_vectorized[df_world_vectorized.columns.drop(list(df_world_vectorized.filter(regex='\\d')))]"
   ]
  },
  {
   "cell_type": "code",
   "execution_count": 31,
   "id": "f8968a04",
   "metadata": {},
   "outputs": [],
   "source": [
    "df_world_1=df_world_vectorized[df_world_vectorized['year_group']==1].reset_index(drop=True)\n",
    "df_world_2=df_world_vectorized[df_world_vectorized['year_group']==2].reset_index(drop=True)\n",
    "df_world_3=df_world_vectorized[df_world_vectorized['year_group']==3].reset_index(drop=True)\n",
    "df_world_4=df_world_vectorized[df_world_vectorized['year_group']==4].reset_index(drop=True)\n",
    "df_world_5=df_world_vectorized[df_world_vectorized['year_group']==5].reset_index(drop=True)\n",
    "df_world_6=df_world_vectorized[df_world_vectorized['year_group']==6].reset_index(drop=True)\n",
    "df_world_7=df_world_vectorized[df_world_vectorized['year_group']==7].reset_index(drop=True)\n",
    "df_world_8=df_world_vectorized[df_world_vectorized['year_group']==8].reset_index(drop=True)\n",
    "df_world_9=df_world_vectorized[df_world_vectorized['year_group']==9].reset_index(drop=True)"
   ]
  },
  {
   "cell_type": "code",
   "execution_count": 32,
   "id": "9b93923a",
   "metadata": {},
   "outputs": [],
   "source": [
    "#splitting into X & y for coefficient / counting:\n",
    "X_world_1 = df_world_1.drop(columns=['year_no', 'year_group','decade_group','headline','compound_score','neutral_score','positive_score','negative_score'])\n",
    "y_world_1 = df_world_1['compound_score']"
   ]
  },
  {
   "cell_type": "code",
   "execution_count": 25,
   "id": "5ce60919",
   "metadata": {},
   "outputs": [
    {
     "data": {
      "text/html": [
       "<div>\n",
       "<style scoped>\n",
       "    .dataframe tbody tr th:only-of-type {\n",
       "        vertical-align: middle;\n",
       "    }\n",
       "\n",
       "    .dataframe tbody tr th {\n",
       "        vertical-align: top;\n",
       "    }\n",
       "\n",
       "    .dataframe thead th {\n",
       "        text-align: right;\n",
       "    }\n",
       "</style>\n",
       "<table border=\"1\" class=\"dataframe\">\n",
       "  <thead>\n",
       "    <tr style=\"text-align: right;\">\n",
       "      <th></th>\n",
       "      <th>counts</th>\n",
       "    </tr>\n",
       "  </thead>\n",
       "  <tbody>\n",
       "    <tr>\n",
       "      <th>soviet</th>\n",
       "      <td>1888</td>\n",
       "    </tr>\n",
       "    <tr>\n",
       "      <th>says</th>\n",
       "      <td>1627</td>\n",
       "    </tr>\n",
       "    <tr>\n",
       "      <th>new</th>\n",
       "      <td>1197</td>\n",
       "    </tr>\n",
       "    <tr>\n",
       "      <th>talks</th>\n",
       "      <td>1119</td>\n",
       "    </tr>\n",
       "    <tr>\n",
       "      <th>reagan</th>\n",
       "      <td>1080</td>\n",
       "    </tr>\n",
       "    <tr>\n",
       "      <th>world</th>\n",
       "      <td>942</td>\n",
       "    </tr>\n",
       "    <tr>\n",
       "      <th>today</th>\n",
       "      <td>939</td>\n",
       "    </tr>\n",
       "    <tr>\n",
       "      <th>salvador</th>\n",
       "      <td>902</td>\n",
       "    </tr>\n",
       "    <tr>\n",
       "      <th>arms</th>\n",
       "      <td>877</td>\n",
       "    </tr>\n",
       "    <tr>\n",
       "      <th>israel</th>\n",
       "      <td>827</td>\n",
       "    </tr>\n",
       "    <tr>\n",
       "      <th>south</th>\n",
       "      <td>780</td>\n",
       "    </tr>\n",
       "    <tr>\n",
       "      <th>said</th>\n",
       "      <td>758</td>\n",
       "    </tr>\n",
       "    <tr>\n",
       "      <th>lebanon</th>\n",
       "      <td>697</td>\n",
       "    </tr>\n",
       "    <tr>\n",
       "      <th>general</th>\n",
       "      <td>676</td>\n",
       "    </tr>\n",
       "    <tr>\n",
       "      <th>reported</th>\n",
       "      <td>648</td>\n",
       "    </tr>\n",
       "    <tr>\n",
       "      <th>israeli</th>\n",
       "      <td>634</td>\n",
       "    </tr>\n",
       "    <tr>\n",
       "      <th>beirut</th>\n",
       "      <td>630</td>\n",
       "    </tr>\n",
       "    <tr>\n",
       "      <th>rebels</th>\n",
       "      <td>619</td>\n",
       "    </tr>\n",
       "    <tr>\n",
       "      <th>west</th>\n",
       "      <td>604</td>\n",
       "    </tr>\n",
       "    <tr>\n",
       "      <th>aid</th>\n",
       "      <td>602</td>\n",
       "    </tr>\n",
       "  </tbody>\n",
       "</table>\n",
       "</div>"
      ],
      "text/plain": [
       "          counts\n",
       "soviet      1888\n",
       "says        1627\n",
       "new         1197\n",
       "talks       1119\n",
       "reagan      1080\n",
       "world        942\n",
       "today        939\n",
       "salvador     902\n",
       "arms         877\n",
       "israel       827\n",
       "south        780\n",
       "said         758\n",
       "lebanon      697\n",
       "general      676\n",
       "reported     648\n",
       "israeli      634\n",
       "beirut       630\n",
       "rebels       619\n",
       "west         604\n",
       "aid          602"
      ]
     },
     "execution_count": 25,
     "metadata": {},
     "output_type": "execute_result"
    }
   ],
   "source": [
    "world_1_neg = df_world_1.sort_values('compound_score', ascending=True).reset_index(drop=True).head(1000)\n",
    "\n",
    "world_1_counts_neg = pd.DataFrame(\n",
    "   {\"counts\": world_1_neg.sum(axis=0)}     \n",
    ").sort_values(\"counts\", ascending=False)\n",
    "\n",
    "world_1_counts_neg.head(20)\n",
    "\n",
    "##possible to create an average compound score or something else for the tokens?"
   ]
  },
  {
   "cell_type": "code",
   "execution_count": 46,
   "id": "c7d88b67",
   "metadata": {},
   "outputs": [
    {
     "data": {
      "text/html": [
       "<div>\n",
       "<style scoped>\n",
       "    .dataframe tbody tr th:only-of-type {\n",
       "        vertical-align: middle;\n",
       "    }\n",
       "\n",
       "    .dataframe tbody tr th {\n",
       "        vertical-align: top;\n",
       "    }\n",
       "\n",
       "    .dataframe thead th {\n",
       "        text-align: right;\n",
       "    }\n",
       "</style>\n",
       "<table border=\"1\" class=\"dataframe\">\n",
       "  <thead>\n",
       "    <tr style=\"text-align: right;\">\n",
       "      <th></th>\n",
       "      <th>counts</th>\n",
       "    </tr>\n",
       "  </thead>\n",
       "  <tbody>\n",
       "    <tr>\n",
       "      <th>1940</th>\n",
       "      <td>1627.0</td>\n",
       "    </tr>\n",
       "    <tr>\n",
       "      <th>2205</th>\n",
       "      <td>1119.0</td>\n",
       "    </tr>\n",
       "    <tr>\n",
       "      <th>2078</th>\n",
       "      <td>944.0</td>\n",
       "    </tr>\n",
       "    <tr>\n",
       "      <th>2264</th>\n",
       "      <td>939.0</td>\n",
       "    </tr>\n",
       "    <tr>\n",
       "      <th>1195</th>\n",
       "      <td>827.0</td>\n",
       "    </tr>\n",
       "    <tr>\n",
       "      <th>1921</th>\n",
       "      <td>758.0</td>\n",
       "    </tr>\n",
       "    <tr>\n",
       "      <th>1310</th>\n",
       "      <td>697.0</td>\n",
       "    </tr>\n",
       "    <tr>\n",
       "      <th>1832</th>\n",
       "      <td>648.0</td>\n",
       "    </tr>\n",
       "    <tr>\n",
       "      <th>1196</th>\n",
       "      <td>634.0</td>\n",
       "    </tr>\n",
       "    <tr>\n",
       "      <th>1786</th>\n",
       "      <td>619.0</td>\n",
       "    </tr>\n",
       "    <tr>\n",
       "      <th>2443</th>\n",
       "      <td>604.0</td>\n",
       "    </tr>\n",
       "    <tr>\n",
       "      <th>113</th>\n",
       "      <td>602.0</td>\n",
       "    </tr>\n",
       "    <tr>\n",
       "      <th>1506</th>\n",
       "      <td>598.5</td>\n",
       "    </tr>\n",
       "    <tr>\n",
       "      <th>1300</th>\n",
       "      <td>573.0</td>\n",
       "    </tr>\n",
       "    <tr>\n",
       "      <th>222</th>\n",
       "      <td>563.0</td>\n",
       "    </tr>\n",
       "    <tr>\n",
       "      <th>1626</th>\n",
       "      <td>560.0</td>\n",
       "    </tr>\n",
       "    <tr>\n",
       "      <th>1179</th>\n",
       "      <td>541.0</td>\n",
       "    </tr>\n",
       "    <tr>\n",
       "      <th>1781</th>\n",
       "      <td>540.0</td>\n",
       "    </tr>\n",
       "    <tr>\n",
       "      <th>2413</th>\n",
       "      <td>539.0</td>\n",
       "    </tr>\n",
       "    <tr>\n",
       "      <th>366</th>\n",
       "      <td>534.0</td>\n",
       "    </tr>\n",
       "  </tbody>\n",
       "</table>\n",
       "</div>"
      ],
      "text/plain": [
       "      counts\n",
       "1940  1627.0\n",
       "2205  1119.0\n",
       "2078   944.0\n",
       "2264   939.0\n",
       "1195   827.0\n",
       "1921   758.0\n",
       "1310   697.0\n",
       "1832   648.0\n",
       "1196   634.0\n",
       "1786   619.0\n",
       "2443   604.0\n",
       "113    602.0\n",
       "1506   598.5\n",
       "1300   573.0\n",
       "222    563.0\n",
       "1626   560.0\n",
       "1179   541.0\n",
       "1781   540.0\n",
       "2413   539.0\n",
       "366    534.0"
      ]
     },
     "execution_count": 46,
     "metadata": {},
     "output_type": "execute_result"
    }
   ],
   "source": [
    "world_1_pos = df_world_1.sort_values('compound_score', ascending=False).reset_index(drop=True).head(1000)\n",
    "\n",
    "world_1_counts_pos = pd.DataFrame(\n",
    "   {\"counts\": world_1_pos.sum(axis=0)}     \n",
    ").sort_values(\"counts\", ascending=False)\n",
    "\n",
    "world_1_counts_pos.head(20)"
   ]
  },
  {
   "cell_type": "code",
   "execution_count": null,
   "id": "06940b92",
   "metadata": {},
   "outputs": [],
   "source": [
    "coef_df = pd.DataFrame(\n",
    "    {\"token\": X_world_9_bottom.columns, \"coefficient\": linreg_world_9_bottom.coef_[0]}\n",
    ").reset_index(drop=True)\n",
    "\n",
    "coef_df"
   ]
  },
  {
   "cell_type": "code",
   "execution_count": null,
   "id": "ba7f58c7",
   "metadata": {},
   "outputs": [],
   "source": [
    "word_counts_neg = pd.DataFrame(\n",
    "    {\"counts\": X_world_9_bottom.sum(axis=0)},\n",
    "    index=bagofwords_world_9_bottom.get_feature_names_out()\n",
    ").sort_values(\"counts\", ascending=False)"
   ]
  },
  {
   "cell_type": "code",
   "execution_count": null,
   "id": "ad9e01cd",
   "metadata": {},
   "outputs": [],
   "source": []
  },
  {
   "cell_type": "code",
   "execution_count": null,
   "id": "d087ca55",
   "metadata": {},
   "outputs": [],
   "source": []
  },
  {
   "cell_type": "code",
   "execution_count": null,
   "id": "2505e855",
   "metadata": {},
   "outputs": [],
   "source": []
  },
  {
   "cell_type": "code",
   "execution_count": null,
   "id": "c8cedf84",
   "metadata": {},
   "outputs": [],
   "source": []
  },
  {
   "cell_type": "code",
   "execution_count": null,
   "id": "b1345a99",
   "metadata": {
    "scrolled": false
   },
   "outputs": [],
   "source": [
    "bagofwords.get_feature_names_out()"
   ]
  },
  {
   "cell_type": "code",
   "execution_count": null,
   "id": "77bb28df",
   "metadata": {},
   "outputs": [],
   "source": [
    "from nltk.stem import PorterStemmer\n",
    "\n",
    "ps = PorterStemmer()\n",
    "\n",
    "words_abuse = [\"abuse\", \"abuses\"]\n",
    "  \n",
    "for w in words_abuse:\n",
    "    print(w, \" : \", ps.stem(w))"
   ]
  },
  {
   "cell_type": "markdown",
   "id": "40e56b8a",
   "metadata": {},
   "source": [
    "## Coefficients"
   ]
  },
  {
   "cell_type": "code",
   "execution_count": 33,
   "id": "537b719f",
   "metadata": {},
   "outputs": [
    {
     "data": {
      "text/plain": [
       "(34732,)"
      ]
     },
     "execution_count": 33,
     "metadata": {},
     "output_type": "execute_result"
    }
   ],
   "source": [
    "y_world_1.shape"
   ]
  },
  {
   "cell_type": "code",
   "execution_count": 34,
   "id": "6da9a5d7",
   "metadata": {},
   "outputs": [
    {
     "data": {
      "text/plain": [
       "(34732, 2500)"
      ]
     },
     "execution_count": 34,
     "metadata": {},
     "output_type": "execute_result"
    }
   ],
   "source": [
    "X_world_1.shape"
   ]
  },
  {
   "cell_type": "code",
   "execution_count": 41,
   "id": "9c171c12",
   "metadata": {},
   "outputs": [],
   "source": [
    "# importing scaler\n",
    "from sklearn.preprocessing import MinMaxScaler\n",
    "\n",
    "# instantiating model\n",
    "minmax = MinMaxScaler()\n",
    "\n",
    "# fitting model \n",
    "minmax.fit(X_world_1)\n",
    "\n",
    "# transforming model\n",
    "X_world_1 = minmax.transform(X_world_1)"
   ]
  },
  {
   "cell_type": "code",
   "execution_count": 42,
   "id": "812544c8",
   "metadata": {},
   "outputs": [
    {
     "data": {
      "text/plain": [
       "LinearRegression()"
      ]
     },
     "execution_count": 42,
     "metadata": {},
     "output_type": "execute_result"
    }
   ],
   "source": [
    "# load Linear Regression model \n",
    "from sklearn.linear_model import LinearRegression\n",
    "\n",
    "# Instantiate model\n",
    "linreg_world_1 = LinearRegression()\n",
    "\n",
    "# Fit model on training df\n",
    "linreg_world_1.fit(X_world_1,y_world_1)"
   ]
  },
  {
   "cell_type": "code",
   "execution_count": 43,
   "id": "0a9d5291",
   "metadata": {},
   "outputs": [
    {
     "data": {
      "text/html": [
       "<div>\n",
       "<style scoped>\n",
       "    .dataframe tbody tr th:only-of-type {\n",
       "        vertical-align: middle;\n",
       "    }\n",
       "\n",
       "    .dataframe tbody tr th {\n",
       "        vertical-align: top;\n",
       "    }\n",
       "\n",
       "    .dataframe thead th {\n",
       "        text-align: right;\n",
       "    }\n",
       "</style>\n",
       "<table border=\"1\" class=\"dataframe\">\n",
       "  <thead>\n",
       "    <tr style=\"text-align: right;\">\n",
       "      <th></th>\n",
       "      <th>coefficient</th>\n",
       "    </tr>\n",
       "  </thead>\n",
       "  <tbody>\n",
       "    <tr>\n",
       "      <th>000</th>\n",
       "      <td>-0.01787</td>\n",
       "    </tr>\n",
       "    <tr>\n",
       "      <th>posts</th>\n",
       "      <td>-0.01787</td>\n",
       "    </tr>\n",
       "    <tr>\n",
       "      <th>portugal</th>\n",
       "      <td>-0.01787</td>\n",
       "    </tr>\n",
       "    <tr>\n",
       "      <th>poses</th>\n",
       "      <td>-0.01787</td>\n",
       "    </tr>\n",
       "    <tr>\n",
       "      <th>position</th>\n",
       "      <td>-0.01787</td>\n",
       "    </tr>\n",
       "    <tr>\n",
       "      <th>...</th>\n",
       "      <td>...</td>\n",
       "    </tr>\n",
       "    <tr>\n",
       "      <th>expands</th>\n",
       "      <td>-0.01787</td>\n",
       "    </tr>\n",
       "    <tr>\n",
       "      <th>expected</th>\n",
       "      <td>-0.01787</td>\n",
       "    </tr>\n",
       "    <tr>\n",
       "      <th>expects</th>\n",
       "      <td>-0.01787</td>\n",
       "    </tr>\n",
       "    <tr>\n",
       "      <th>expel</th>\n",
       "      <td>-0.01787</td>\n",
       "    </tr>\n",
       "    <tr>\n",
       "      <th>zone</th>\n",
       "      <td>-0.01787</td>\n",
       "    </tr>\n",
       "  </tbody>\n",
       "</table>\n",
       "<p>2500 rows × 1 columns</p>\n",
       "</div>"
      ],
      "text/plain": [
       "          coefficient\n",
       "000          -0.01787\n",
       "posts        -0.01787\n",
       "portugal     -0.01787\n",
       "poses        -0.01787\n",
       "position     -0.01787\n",
       "...               ...\n",
       "expands      -0.01787\n",
       "expected     -0.01787\n",
       "expects      -0.01787\n",
       "expel        -0.01787\n",
       "zone         -0.01787\n",
       "\n",
       "[2500 rows x 1 columns]"
      ]
     },
     "execution_count": 43,
     "metadata": {},
     "output_type": "execute_result"
    }
   ],
   "source": [
    "word_coefficients = pd.DataFrame(\n",
    "    {\"coefficient\": linreg_world_1.coef_[0]},\n",
    "    index = bagofwords.get_feature_names_out()\n",
    ").sort_values(\"coefficient\", ascending=False)\n",
    "\n",
    "word_coefficients"
   ]
  },
  {
   "cell_type": "code",
   "execution_count": 45,
   "id": "f4769043",
   "metadata": {},
   "outputs": [
    {
     "data": {
      "image/png": "[encoded data removed]",
      "text/plain": [
       "<Figure size 432x288 with 1 Axes>"
      ]
     },
     "metadata": {
      "needs_background": "light"
     },
     "output_type": "display_data"
    }
   ],
   "source": [
    "plt.hist(y_world_1, bins=11)\n",
    "plt.show()"
   ]
  },
  {
   "cell_type": "code",
   "execution_count": null,
   "id": "de462816",
   "metadata": {},
   "outputs": [],
   "source": []
  },
  {
   "cell_type": "code",
   "execution_count": null,
   "id": "14c79ee4",
   "metadata": {},
   "outputs": [],
   "source": [
    "coef_df = pd.DataFrame(\n",
    "    {\"token\": X_world_9_bottom.columns, \"coefficient\": linreg_world_9_bottom.coef_[0]}\n",
    ").reset_index(drop=True)\n",
    "\n",
    "coef_df"
   ]
  },
  {
   "cell_type": "code",
   "execution_count": null,
   "id": "4af4b981",
   "metadata": {},
   "outputs": [],
   "source": [
    "# load Logistic Regression model \n",
    "from sklearn.linear_model import LogisticRegression\n",
    "\n",
    "# Instantiate model \n",
    "logreg_world_1 = LogisticRegression(solver='lbfgs', random_state=1, max_iter=1000)\n",
    "\n",
    "# Fit model on training df\n",
    "logreg_world_1.fit(X_world_1,y_world_1)"
   ]
  },
  {
   "cell_type": "code",
   "execution_count": null,
   "id": "7ab460c0",
   "metadata": {},
   "outputs": [],
   "source": []
  },
  {
   "cell_type": "code",
   "execution_count": null,
   "id": "cb56e323",
   "metadata": {},
   "outputs": [],
   "source": []
  },
  {
   "cell_type": "code",
   "execution_count": null,
   "id": "b6841baa",
   "metadata": {},
   "outputs": [],
   "source": [
    "pd.set_option('display.max_colwidth', None)"
   ]
  },
  {
   "cell_type": "code",
   "execution_count": null,
   "id": "5aabd2d6",
   "metadata": {},
   "outputs": [],
   "source": [
    "df_world_1"
   ]
  },
  {
   "cell_type": "code",
   "execution_count": null,
   "id": "c124794e",
   "metadata": {},
   "outputs": [],
   "source": [
    "df_world_1[df_world_1['headline'].str.contains('SAYS')]"
   ]
  },
  {
   "cell_type": "code",
   "execution_count": null,
   "id": "2c6d1a9c",
   "metadata": {},
   "outputs": [],
   "source": [
    "party_df = df_world_1[df_world_1['headline'].str.contains('PARTY')].reset_index(drop=True)"
   ]
  },
  {
   "cell_type": "code",
   "execution_count": null,
   "id": "f6e79231",
   "metadata": {},
   "outputs": [],
   "source": [
    "pip install vaderSentiment"
   ]
  },
  {
   "cell_type": "code",
   "execution_count": null,
   "id": "4b89ff74",
   "metadata": {},
   "outputs": [],
   "source": [
    "pip install nltk"
   ]
  },
  {
   "cell_type": "code",
   "execution_count": null,
   "id": "ba59558e",
   "metadata": {},
   "outputs": [],
   "source": [
    "from vaderSentiment.vaderSentiment import SentimentIntensityAnalyzer\n",
    "analyzer = SentimentIntensityAnalyzer()"
   ]
  },
  {
   "cell_type": "code",
   "execution_count": null,
   "id": "e820184d",
   "metadata": {},
   "outputs": [],
   "source": [
    "import nltk \n",
    "nltk.download('vader_lexicon')"
   ]
  },
  {
   "cell_type": "code",
   "execution_count": null,
   "id": "ac3e8eda",
   "metadata": {},
   "outputs": [],
   "source": [
    "analyzer.lexicon.pop('party')"
   ]
  },
  {
   "cell_type": "code",
   "execution_count": null,
   "id": "0e6e1b95",
   "metadata": {},
   "outputs": [],
   "source": [
    "party_df['compound'] = [analyzer.polarity_scores(x)['compound'] for x in party_df['headline']]\n",
    "party_df['neg'] = [analyzer.polarity_scores(x)['neg'] for x in party_df['headline']]\n",
    "party_df['neu'] = [analyzer.polarity_scores(x)['neu'] for x in party_df['headline']]\n",
    "party_df['pos'] = [analyzer.polarity_scores(x)['pos'] for x in party_df['headline']]"
   ]
  },
  {
   "cell_type": "code",
   "execution_count": null,
   "id": "1ea367de",
   "metadata": {},
   "outputs": [],
   "source": [
    "party_df"
   ]
  },
  {
   "cell_type": "code",
   "execution_count": null,
   "id": "9ebe38d6",
   "metadata": {},
   "outputs": [],
   "source": [
    "bagofwords.get_feature_names_out()"
   ]
  },
  {
   "cell_type": "code",
   "execution_count": null,
   "id": "d4d72519",
   "metadata": {},
   "outputs": [],
   "source": []
  }
 ],
 "metadata": {
  "kernelspec": {
   "display_name": "Python 3 (ipykernel)",
   "language": "python",
   "name": "python3"
  },
  "language_info": {
   "codemirror_mode": {
    "name": "ipython",
    "version": 3
   },
   "file_extension": ".py",
   "mimetype": "text/x-python",
   "name": "python",
   "nbconvert_exporter": "python",
   "pygments_lexer": "ipython3",
   "version": "3.8.12"
  }
 },
 "nbformat": 4,
 "nbformat_minor": 5
}
